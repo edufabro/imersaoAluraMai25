{
  "nbformat": 4,
  "nbformat_minor": 0,
  "metadata": {
    "colab": {
      "provenance": []
    },
    "kernelspec": {
      "name": "python3",
      "display_name": "Python 3"
    },
    "language_info": {
      "name": "python"
    }
  },
  "cells": [
    {
      "cell_type": "code",
      "source": [
        "%pip -q install google-genai"
      ],
      "metadata": {
        "id": "UCCbECexLk_h"
      },
      "execution_count": 1,
      "outputs": []
    },
    {
      "cell_type": "code",
      "source": [
        "# Configura a API Key do Google Gemini\n",
        "import os\n",
        "from google.colab import userdata\n",
        "os.environ[\"GOOGLE_API_KEY\"] = userdata.get('GOOGLE_API_KEY')"
      ],
      "metadata": {
        "id": "NfCqHo1tLk8P"
      },
      "execution_count": 2,
      "outputs": []
    },
    {
      "cell_type": "code",
      "source": [
        "# Configura o cliente da SDK do Gemini\n",
        "from google import genai\n",
        "client = genai.Client()\n",
        "MODEL_ID = \"gemini-2.0-flash\""
      ],
      "metadata": {
        "id": "bV4w0H5TLk5g"
      },
      "execution_count": 3,
      "outputs": []
    },
    {
      "cell_type": "code",
      "source": [
        "# Instalar Framework de agentes do Google ################################################\n",
        "!pip install -q google-adk"
      ],
      "metadata": {
        "id": "a1eRPalxEnj7"
      },
      "execution_count": 4,
      "outputs": []
    },
    {
      "cell_type": "code",
      "execution_count": 5,
      "metadata": {
        "id": "aePV2bdfDeoW"
      },
      "outputs": [],
      "source": [
        "from google.adk.agents import Agent\n",
        "from google.adk.runners import Runner\n",
        "from google.adk.sessions import InMemorySessionService\n",
        "from google.adk.tools import google_search\n",
        "from google.genai import types  # Para criar conteúdos (Content e Part)\n",
        "from datetime import date\n",
        "import textwrap # Para formatar melhor a saída de texto\n",
        "from IPython.display import HTML, display, Markdown # Para exibir texto formatado no Colab\n",
        "import requests # Para fazer requisições HTTP\n",
        "import warnings\n",
        "\n",
        "warnings.filterwarnings(\"ignore\")"
      ]
    },
    {
      "cell_type": "code",
      "source": [
        "# Função auxiliar que envia uma mensagem para um agente via Runner e retorna a resposta final\n",
        "def call_agent(agent: Agent, message_text: str) -> str:\n",
        "    # Cria um serviço de sessão em memória\n",
        "    session_service = InMemorySessionService()\n",
        "    # Cria uma nova sessão (você pode personalizar os IDs conforme necessário)\n",
        "    session = session_service.create_session(app_name=agent.name, user_id=\"user1\", session_id=\"session1\")\n",
        "    # Cria um Runner para o agente\n",
        "    runner = Runner(agent=agent, app_name=agent.name, session_service=session_service)\n",
        "    # Cria o conteúdo da mensagem de entrada\n",
        "    content = types.Content(role=\"user\", parts=[types.Part(text=message_text)])\n",
        "\n",
        "    final_response = \"\"\n",
        "    # Itera assincronamente pelos eventos retornados durante a execução do agente\n",
        "    for event in runner.run(user_id=\"user1\", session_id=\"session1\", new_message=content):\n",
        "        if event.is_final_response():\n",
        "          for part in event.content.parts:\n",
        "            if part.text is not None:\n",
        "              final_response += part.text\n",
        "              final_response += \"\\n\"\n",
        "    return final_response"
      ],
      "metadata": {
        "id": "_xP4lWhsS5ko"
      },
      "execution_count": 6,
      "outputs": []
    },
    {
      "cell_type": "code",
      "source": [
        "# Função auxiliar para exibir texto formatado em Markdown no Colab\n",
        "def to_markdown(text):\n",
        "  text = text.replace('•', '  *')\n",
        "  return Markdown(textwrap.indent(text, '> ', predicate=lambda _: True))"
      ],
      "metadata": {
        "id": "8dosiodaxfFR"
      },
      "execution_count": 7,
      "outputs": []
    },
    {
      "cell_type": "code",
      "source": [
        "##########################################\n",
        "# --- Agente 1: Buscador de Preços --- #\n",
        "##########################################\n",
        "def agente_buscadorAlimentos(cidade):\n",
        "\n",
        "    buscador = Agent(\n",
        "        name=\"agente_buscadorAlimentos\",\n",
        "        model=\"gemini-2.0-flash\",\n",
        "        instruction=\"\"\"\n",
        "        Você é um assistente de pesquisa. A sua tarefa é usar a ferramenta de busca do Google (google_search)\n",
        "        para recuperar os preços/kg de verduras, legumes e hortaliças de uma cidade.\n",
        "        Não considere o preço de frutas.\n",
        "        Foque em nos 5 menores preços obtidos e monte uma lista com nomes e preços dos alimentos.\n",
        "        \"\"\",\n",
        "        description=\"Agente que busca preços de alimentos no Google\",\n",
        "        tools=[google_search]\n",
        "    )\n",
        "\n",
        "    entrada_do_agente_buscadorAlimentos = f\"Cidade: {cidade}\"\n",
        "\n",
        "    listaDeAlimentos = call_agent(buscador, entrada_do_agente_buscadorAlimentos)\n",
        "    return listaDeAlimentos"
      ],
      "metadata": {
        "id": "o8bqIfi_DyH8"
      },
      "execution_count": 8,
      "outputs": []
    },
    {
      "cell_type": "code",
      "source": [
        "################################################\n",
        "# --- Agente 2: Elaborador de receitas --- #\n",
        "################################################\n",
        "def agente_nutricionista(listaDeAlimentos):\n",
        "    planejador = Agent(\n",
        "        name=\"agente_nutricionista\",\n",
        "        ### model=\"gemini-2.5-pro-preview-03-25\",\n",
        "        model=\"gemini-2.0-flash\",\n",
        "        # Inserir as instruções do Agente Elaborador #################################################\n",
        "        instruction=\"\"\"\n",
        "        Você é um nutricionista, especialista em elaboração de receitas de verduras, legumes e hortaliças. Com base na lista de\n",
        "        alimentos obtida, você deve usar a ferramenta de busca do Google (google_search) para criar uma lista de receitas de\n",
        "        preparo para cada alimentos da lista de alimentos.\n",
        "        \"\"\",\n",
        "        description=\"Agente que nutricionista\",\n",
        "        tools=[google_search]\n",
        "    )\n",
        "\n",
        "    entrada_do_agente_nutricionista = f\"Alimentos:{listaDeAlimentos}\"\n",
        "    # Executa o agente\n",
        "    receitas = call_agent(planejador, entrada_do_agente_nutricionista)\n",
        "    return receitas"
      ],
      "metadata": {
        "id": "y3VO1uo5_ghO"
      },
      "execution_count": 9,
      "outputs": []
    },
    {
      "cell_type": "code",
      "source": [
        "###################################################################\n",
        "# --- Agente 3: Buscador de Preços de Ingredientes de Receita --- #\n",
        "###################################################################\n",
        "def agente_analistaDeCustos(receitas):\n",
        "\n",
        "    analistaDeCustos = Agent(\n",
        "        name=\"agente_analistaDeCustos\",\n",
        "        model=\"gemini-2.0-flash\",\n",
        "        instruction=\"\"\"\n",
        "        Você é um assistente de pesquisa. A sua tarefa é usar a ferramenta de busca do Google (google_search)\n",
        "        para recuperar os valores de contribuição de ingredientes em uma lista de receitas recebidas, ou seja, o parâmetro 'receitas'.\n",
        "        Não considere o preço de frutas.\n",
        "        Após a pesquisa, use os valores recuperados nesta e calcule o preço final de cada receita.\n",
        "        Com isto produza uma lista com os nomes das receitas e seus respectivos valores finais, ordenada em ordem crescente de preços.\n",
        "        Considere que cada receita corresponde a uma porção para uma pessoa e\n",
        "        que as quantidades dos ingredientes devem ser considerados conforme indicado na cada receita.\n",
        "        As receitas devem ser escritas em português.\n",
        "        A lista de receitas deve ser apresentada apenas com o nome da receita em negrito e o valor final em itálico.\n",
        "        \"\"\",\n",
        "        description=\"Agente que busca preços de ingredientes de receitas no Google\",\n",
        "        tools=[google_search]\n",
        "    )\n",
        "\n",
        "    entrada_do_agente_analistaDeCustos = f\"Receitas: {receitas}\"\n",
        "\n",
        "    receitasCusteadas = call_agent(analistaDeCustos, entrada_do_agente_analistaDeCustos)\n",
        "    return receitasCusteadas"
      ],
      "metadata": {
        "id": "gS9ueKkyqj-t"
      },
      "execution_count": 10,
      "outputs": []
    },
    {
      "cell_type": "code",
      "source": [
        "print (\"\"\"🚀 Sistema de Criação de Receitas de Alimentos Baratos por Cidade! 🚀\\n\n",
        "    \\n\n",
        "    O propósito deste app é o de ofertar cardápios para o usuário de uma determinada cidade, \\n\n",
        "    considerando os menores valores para verduras, legumes e hortaliças encontrados nesta cidade.\\n\n",
        "    \\n\n",
        "    O app é baseado em 3 agentes: \\n\n",
        "    1 - O primeiro agente (agente_buscadorAlimentos) obtém a cidade do usuário e \\n\n",
        "        pesquisa os alimentos mais baratos para esta cidade no Google.\\n\n",
        "    2 - O segundo agente (agente_nutricionista) recebe a lista de alimentos e devolve uma receita para cada alimento.\\n\n",
        "    3 - O terceiro agente (agente_analistaDeCustos) recebe a lista de receitas, pesquisa na Google os valores dos \\n\n",
        "        ingredientes de cada receita para compor seu valor e, ao final, exibe a lista de receitas em ordem crescente de custos, \\n\n",
        "        junto com os ingrediente e forma de elaboração.\\n\\n\"\"\")\n",
        "\n",
        "# --- Obter o Tópico do Usuário ---\n",
        "cidade = input(\"❓ Por favor, digite a cidade (Nome/UF) para a qual devem ser geradas as receitas: \")\n",
        "\n",
        "# Inserir lógica do sistema de agentes ################################################\n",
        "if not cidade:\n",
        "    print(\"Você esqueceu de digitar a cidade!\")\n",
        "else:\n",
        "    print(f\"Maravilha! Vamos então criar receitas baratas para {cidade}.\")\n",
        "\n",
        "    listaDeAlimentos = agente_buscadorAlimentos(cidade)\n",
        "    print(\"\\n--- 📝 Resultado do Agente 1 (Buscador) ---\\n\")\n",
        "    display(to_markdown(listaDeAlimentos))\n",
        "    print(\"--------------------------------------------------------------\")\n",
        "\n",
        "    receitas = agente_nutricionista(listaDeAlimentos)\n",
        "    print(\"\\n--- 📝 Resultado do Agente 2 (Nutricionista) ---\\n\")\n",
        "    display(to_markdown(receitas))\n",
        "    print(\"--------------------------------------------------------------\")\n",
        "\n",
        "    receitasCusteadas = agente_analistaDeCustos(receitas)\n",
        "    print(\"\\n--- 📝 Resultado do Agente 3 (Custeador) ---\\n\")\n",
        "    display(to_markdown(receitasCusteadas))\n",
        "    print(\"--------------------------------------------------------------\")"
      ],
      "metadata": {
        "colab": {
          "base_uri": "https://localhost:8080/",
          "height": 1000
        },
        "id": "6xzI6LKzxxnN",
        "outputId": "8c4b9853-546f-4d87-9bbf-7219ff73c77f"
      },
      "execution_count": 11,
      "outputs": [
        {
          "output_type": "stream",
          "name": "stdout",
          "text": [
            "🚀 Sistema de Criação de Receitas de Alimentos Baratos por Cidade! 🚀\n",
            " \n",
            "    \n",
            " \n",
            "    O propósito deste app é o de ofertar cardápios para o usuário de uma determinada cidade, \n",
            "\n",
            "    considerando os menores valores para verduras, legumes e hortaliças encontrados nesta cidade.\n",
            "\n",
            "    \n",
            "\n",
            "    O app é baseado em 3 agentes: \n",
            "\n",
            "    1 - O primeiro agente (agente_buscadorAlimentos) obtém a cidade do usuário e \n",
            "\n",
            "        pesquisa os alimentos mais baratos para esta cidade no Google.\n",
            "\n",
            "    2 - O segundo agente (agente_nutricionista) recebe a lista de alimentos e devolve uma receita para cada alimento.\n",
            "\n",
            "    3 - O terceiro agente (agente_analistaDeCustos) recebe a lista de receitas, pesquisa na Google os valores dos \n",
            "\n",
            "        ingredientes de cada receita para compor seu valor e, ao final, exibe a lista de receitas em ordem crescente de custos, \n",
            "\n",
            "        junto com os ingrediente e forma de elaboração.\n",
            "\n",
            "\n",
            "❓ Por favor, digite a cidade (Nome/UF) para a qual devem ser geradas as receitas: Campinas/SP\n",
            "Maravilha! Vamos então criar receitas baratas para Campinas/SP.\n",
            "\n",
            "--- 📝 Resultado do Agente 1 (Buscador) ---\n",
            "\n"
          ]
        },
        {
          "output_type": "display_data",
          "data": {
            "text/plain": [
              "<IPython.core.display.Markdown object>"
            ],
            "text/markdown": "> Ok, vou buscar os 5 menores preços de verduras, legumes e hortaliças em Campinas/SP.\n> \n> \n> Com base nos resultados da busca, é difícil determinar os 5 menores preços exatos por kg de verduras, legumes e hortaliças em Campinas sem informações mais específicas e atualizadas. Os resultados me mostram cotações da CEAGESP, mas não preços no varejo.\n> \n> No entanto, posso fornecer algumas informações gerais e estratégias para encontrar os menores preços:\n> \n> * **CEAGESP Campinas:** A CEAGESP (Centrais de Abastecimento de Campinas) é um ótimo lugar para encontrar preços de referência no atacado. Você pode consultar os boletins de preços para ter uma ideia dos produtos com melhor custo-benefício.\n> * **Supermercados e Hortifrutis:** Visite diferentes supermercados e hortifrutis em Campinas e compare os preços dos produtos que você procura. Muitos estabelecimentos oferecem promoções semanais, então fique de olho nas ofertas. O Oba Hortifruti é citado como um lugar com \"excelente custo-benefício\".\n> * **Feiras Livres:** As feiras livres costumam ter preços competitivos, especialmente se você for perto do final da feira, quando os feirantes costumam baixar os preços para não terem que levar os produtos de volta.\n> * **Aplicativos e Sites de Comparação de Preços:** Utilize aplicativos e sites que comparam os preços de supermercados e hortifrutis em tempo real. Assim, você pode encontrar as melhores ofertas sem sair de casa.\n> \n> Para te dar uma lista mais precisa, preciso de informações de preços mais específicas. Posso tentar pesquisar preços de produtos específicos, como tomate, cebola, alface, etc., se você quiser.\n> \n"
          },
          "metadata": {}
        },
        {
          "output_type": "stream",
          "name": "stdout",
          "text": [
            "--------------------------------------------------------------\n",
            "\n",
            "--- 📝 Resultado do Agente 2 (Nutricionista) ---\n",
            "\n"
          ]
        },
        {
          "output_type": "display_data",
          "data": {
            "text/plain": [
              "<IPython.core.display.Markdown object>"
            ],
            "text/markdown": "> Ok, entendi. Já que não tenho acesso direto aos menores preços atualizados em Campinas, e você me indicou alguns alimentos, vou focar em criar receitas saudáveis e práticas com tomate, cebola e alface. Usarei a ferramenta de busca para encontrar diversas opções de receitas deliciosas com esses ingredientes.\n> \n> \n> Com prazer! Aqui estão algumas ideias de receitas saudáveis e fáceis de preparar com tomate, cebola e alface:\n> \n> **Receitas com Tomate:**\n> \n> 1.  **Salada Caprese:** Uma receita clássica e simples. Basta fatiar tomates e mussarela de búfala, intercalando-os em um prato. Tempere com azeite extra virgem, manjericão fresco e um pouco de sal e pimenta do reino.\n> 2.  **Molho de Tomate Caseiro:** Refogue cebola e alho picados em azeite. Adicione tomates maduros picados (sem pele e sementes, se preferir), ervas como manjericão e orégano, sal, pimenta e um pouco de açúcar para equilibrar a acidez. Cozinhe em fogo baixo até engrossar. Use em massas, lasanhas, pizzas, etc.\n> 3.  **Tomates Recheados:** Corte a parte superior dos tomates e retire as sementes. Recheie com quinoa cozida, legumes picados, frango desfiado ou atum. Leve ao forno para assar até os tomates ficarem macios.\n> 4.  **Ovos escalfados com molho de tomate:** Refogue cebola picada, tomate maduro e pimento vermelho em azeite. Adicione temperos como piri-piri. Cozinhe os ovos nesse molho.\n> 5.  **Bruschetta:** Corte fatias de pão italiano e toste-as. Cubra com tomate picado, alho, manjericão, azeite e sal.\n> \n> **Receitas com Cebola:**\n> \n> 1.  **Sopa de Cebola:** Refogue fatias de cebola em manteiga até caramelizar. Adicione caldo de carne ou legumes, tomilho e louro. Cozinhe até a cebola ficar macia. Sirva com torradas e queijo Gruyère gratinado (opcional).\n> 2.  **Cebola Caramelizada:** Corte cebolas em fatias finas e refogue em fogo baixo com um pouco de azeite e açúcar mascavo até ficarem macias, douradas e adocicadas. Use em hambúrgueres, sanduíches, pizzas ou como acompanhamento de carnes.\n> 3.  **Farofa de Cebola:** Frite bacon picado, adicione cebola em tiras e frite até dourar. Acrescente uvas passas, farinha de mandioca, sal e pimenta.\n> 4.  **Cebola Crispy:** Corte cebolas em fatias finas, passe em uma mistura de farinha de trigo, amido de milho, páprica doce, sal e pimenta. Frite em óleo quente até dourar e ficar crocante.\n> 5.  **Anéis de Cebola:** Corte cebolas em rodelas grossas, passe em uma massa para empanar (farinha, ovo, leite e temperos) e frite em óleo quente até dourar.\n> \n> **Receitas com Alface:**\n> \n> 1.  **Salada Caesar:** Lave e seque folhas de alface romana. Prepare um molho com maionese, alho, mostarda, suco de limão, queijo parmesão ralado e pimenta do reino. Misture a alface com o molho, adicione croutons e queijo parmesão ralado por cima.\n> 2.  **Salada de Alface com Frango:** Combine folhas de alface com tiras de frango grelhado, tomate cereja, pepino, cenoura ralada e um molho de sua preferência (iogurte, azeite e limão, etc.).\n> 3.  **Wrap de Alface:** Use folhas grandes de alface como \"tortillas\" para enrolar recheios como carne moída refogada, frango desfiado, legumes picados, guacamole, etc.\n> 4.  **Salada de Alface com Manga e Rabanete:** Misture alface crespa com agrião, tomates, manga em cubos e rabanete em rodelas. Tempere com azeite, limão e sal.\n> 5.  **Sopa de Alface:** Refogue alface com outros legumes (curgete, cebola, nabo, cenoura). Adicione água e cozinhe por 30 minutos. Liquidifique e sirva.\n> \n> Espero que estas sugestões te inspirem a criar pratos deliciosos e nutritivos!\n"
          },
          "metadata": {}
        },
        {
          "output_type": "stream",
          "name": "stdout",
          "text": [
            "--------------------------------------------------------------\n",
            "\n",
            "--- 📝 Resultado do Agente 3 (Custeador) ---\n",
            "\n"
          ]
        },
        {
          "output_type": "display_data",
          "data": {
            "text/plain": [
              "<IPython.core.display.Markdown object>"
            ],
            "text/markdown": "> Com certeza! Para calcular o custo das receitas que você sugeriu, preciso buscar os preços dos ingredientes. Como você mencionou que não devemos considerar o preço de frutas, focarei nos demais ingredientes.\n> \n> \n> Com base nos resultados da pesquisa, aqui estão os preços médios dos ingredientes (lembrando que estes são valores aproximados e podem variar):\n> \n> *   **Tomate:** R$3,50/kg (considerando uma média de preços em mercados e feiras)\n> *   **Mussarela de búfala:** R$50/kg\n> *   **Cebola:** R$4,00/kg\n> *   **Alface:** R$3,00/pé\n> *   **Azeite extra virgem:** R$40/500ml (ou R$80/litro)\n> *   **Manjericão fresco:** R$4,00/maço\n> *   **Orégano desidratado:** R$7,00/pote\n> *   **Quinoa:** R$35/kg\n> *   **Frango desfiado:** R$25/kg\n> *   **Atum em lata:** R$6,00/lata\n> *   **Pão italiano:** R$15/kg\n> *   **Alho:** R$25/kg\n> *   **Caldo de carne:** R$4,50/caixa com 6 tabletes (considerando Maggi ou Knorr)\n> *   **Tomilho fresco:** R$6,00/maço\n> *   **Louro:** R$20/kg (considerando folhas secas)\n> *   **Manteiga:** R$30/kg\n> *   **Bacon:** R$40/kg\n> *   **Uvas passas:** R$20/kg\n> *   **Farinha de mandioca:** R$8/kg\n> *   **Farinha de trigo:** R$5/kg\n> *   **Amido de milho:** R$7/kg\n> *   **Páprica doce:** R$15/pote\n> *   **Maionese:** R$12/kg\n> *   **Mostarda:** R$10/kg\n> *   **Limão:** R$3/kg\n> *   **Queijo parmesão ralado:** R$60/kg\n> *   **Croutons:** R$20/kg\n> *   **Pepino:** R$8/kg\n> *   **Cenoura:** R$4/kg\n> *   **Iogurte natural:** R$10/kg\n> *   **Carne moída:** R$28/kg\n> *   **Guacamole:** R$60/kg\n> *    **Agrião:** R$5/maço\n> *   **Curgete:** R$6/kg\n> *   **Nabo:** R$5/kg\n> \n> Agora, vou calcular o custo aproximado de cada receita, considerando as quantidades típicas para uma porção individual:\n> \n> **Receitas com Tomate:**\n> \n> 1.  **Salada Caprese:** 200g tomate (R$0,70), 150g mussarela de búfala (R$7,50), 1/4 maço manjericão (R$1,00), azeite, sal e pimenta (R$0,50). Total: R$9,70\n> 2.  **Molho de Tomate Caseiro:** 1/2 cebola (R$0,20), 2 dentes de alho (R$0,20), 500g tomate (R$1,75), orégano, azeite, sal, pimenta e açúcar (R$0,50). Total: R$2,65\n> 3.  **Tomates Recheados:** 2 tomates médios (R$0,70), 50g quinoa (R$1,75), legumes picados (R$0,50), 100g frango desfiado (R$2,50). Total: R$5,45\n> 4.  **Ovos escalfados com molho de tomate:** 1/4 cebola (R$0,10), 200g tomate (R$0,70), 1/4 pimento vermelho (R$0,25), azeite, piri-piri, sal (R$0,25). Total: R$1,30\n> 5.  **Bruschetta:** 2 fatias pão italiano (R$1,50), 100g tomate (R$0,35), 1 dente alho (R$0,10), manjericão, azeite, sal (R$0,50). Total: R$2,45\n> \n> **Receitas com Cebola:**\n> \n> 1.  **Sopa de Cebola:** 300g cebola (R$1,20), caldo de carne (R$0,75), tomilho e louro (R$0,50). Total: R$2,45\n> 2.  **Cebola Caramelizada:** 200g cebola (R$0,80), azeite e açúcar mascavo (R$0,30). Total: R$1,10\n> 3.  **Farofa de Cebola:** 50g bacon (R$2,00), 1/4 cebola (R$0,10), uvas passas (R$0,50), farinha de mandioca (R$0,20). Total: R$2,80\n> 4.  **Cebola Crispy:** 200g cebola (R$0,80), farinha de trigo, amido de milho, páprica, sal e pimenta (R$0,50). Total: R$1,30\n> 5.  **Anéis de Cebola:** 200g cebola (R$0,80), massa para empanar (R$1,00). Total: R$1,80\n> \n> **Receitas com Alface:**\n> \n> 1.  **Salada Caesar:** 1/2 pé alface romana (R$1,50), maionese, alho, mostarda, limão, parmesão, pimenta (R$2,00), croutons (R$1,00). Total: R$4,50\n> 2.  **Salada de Alface com Frango:** 1/2 pé alface (R$1,50), 100g frango grelhado (R$2,50), tomate cereja, pepino, cenoura (R$1,50). Total: R$5,50\n> 3.  **Wrap de Alface:** 2 folhas alface (R$0,50), 100g carne moída refogada (R$2,80), legumes picados (R$0,50), guacamole (R$3,00). Total: R$6,80\n> 4.  **Salada de Alface com Manga e Rabanete:** 1/4 pé alface crespa (R$0,75), agrião (R$1,00), tomates, rabanete, azeite, limão, sal (R$1,00). Total: R$2,75\n> 5.  **Sopa de Alface:** 1/2 pé alface (R$1,50), curgete, cebola, nabo, cenoura (R$1,50). Total: R$3,00\n> \n> **Lista ordenada por preço (do menor para o maior):**\n> \n> *   **Cebola Caramelizada:** *R$1,10*\n> *   **Ovos escalfados com molho de tomate:** *R$1,30*\n> *   **Cebola Crispy:** *R$1,30*\n> *   **Anéis de Cebola:** *R$1,80*\n> *   **Molho de Tomate Caseiro:** *R$2,65*\n> *   **Salada de Alface com Manga e Rabanete:** *R$2,75*\n> *   **Farofa de Cebola:** *R$2,80*\n> *   **Sopa de Alface:** *R$3,00*\n> *   **Salada Caesar:** *R$4,50*\n> *   **Tomates Recheados:** *R$5,45*\n> *   **Salada de Alface com Frango:** *R$5,50*\n> *   **Wrap de Alface:** *R$6,80*\n> *   **Salada Caprese:** *R$9,70*\n> \n> **Observações:**\n> \n> *   Estes são custos *aproximados* por porção individual. Os preços podem variar dependendo da sua localização e das lojas onde você compra.\n> *   Não incluí o preço de todas as frutas, conforme solicitado.\n> *   Alguns ingredientes (como sal, pimenta, azeite, ervas) foram estimados em valores baixos, pois geralmente já estão presentes em casa e são usados em pequenas quantidades.\n> *   As quantidades dos ingredientes são médias e podem ser ajustadas ao seu gosto.\n> \n"
          },
          "metadata": {}
        },
        {
          "output_type": "stream",
          "name": "stdout",
          "text": [
            "--------------------------------------------------------------\n"
          ]
        }
      ]
    }
  ]
}